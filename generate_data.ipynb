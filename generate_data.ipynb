{
 "cells": [
  {
   "cell_type": "code",
   "execution_count": 1,
   "id": "7ebe4edb-dd85-4526-b5b1-bd29ec5b8e99",
   "metadata": {},
   "outputs": [
    {
     "name": "stdout",
     "output_type": "stream",
     "text": [
      "London_sales_data.csv has been generated.\n",
      "New York_sales_data.csv has been generated.\n",
      "Tokyo_sales_data.csv has been generated.\n"
     ]
    }
   ],
   "source": [
    "import pandas as pd\n",
    "import random\n",
    "from datetime import datetime, timedelta\n",
    "\n",
    "#Function for generating simulated sales data\n",
    "def generate_sales_data(city, num_records=100):\n",
    "    sales_data = []\n",
    "    start_date = datetime(2023, 1, 1)\n",
    "    \n",
    "    for _ in range(num_records):\n",
    "        date = start_date + timedelta(days=random.randint(0, 365))\n",
    "        sales_amount = round(random.uniform(50, 500), 2)  #Sales between 50 and 500\n",
    "        product = random.choice(['Product A', 'Product B', 'Product C', 'Product D'])\n",
    "        sales_data.append([date, product, sales_amount, city])\n",
    "    \n",
    "    df = pd.DataFrame(sales_data, columns=['Date', 'Product', 'Sales Amount', 'City'])\n",
    "    return df\n",
    "\n",
    "#Generate sales data for different cities\n",
    "cities = ['London', 'New York', 'Tokyo']\n",
    "for city in cities:\n",
    "    df = generate_sales_data(city)\n",
    "    #Save as CSV file\n",
    "    df.to_csv(f\"{city}_sales_data.csv\", index=False)\n",
    "    print(f\"{city}_sales_data.csv has been generated.\")\n"
   ]
  },
  {
   "cell_type": "code",
   "execution_count": null,
   "id": "075d56dc-db3c-43f5-bbe2-a566b596a4a2",
   "metadata": {},
   "outputs": [],
   "source": []
  }
 ],
 "metadata": {
  "kernelspec": {
   "display_name": "Python 3 (ipykernel)",
   "language": "python",
   "name": "python3"
  },
  "language_info": {
   "codemirror_mode": {
    "name": "ipython",
    "version": 3
   },
   "file_extension": ".py",
   "mimetype": "text/x-python",
   "name": "python",
   "nbconvert_exporter": "python",
   "pygments_lexer": "ipython3",
   "version": "3.12.9"
  }
 },
 "nbformat": 4,
 "nbformat_minor": 5
}
